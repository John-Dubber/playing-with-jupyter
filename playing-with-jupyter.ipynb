{
 "cells": [
  {
   "cell_type": "code",
   "execution_count": 5,
   "id": "90f2afec-1142-442c-8c25-9a46dcdf077f",
   "metadata": {},
   "outputs": [],
   "source": [
    "i =1\n",
    "j=2\n",
    "k=i+j"
   ]
  },
  {
   "cell_type": "code",
   "execution_count": 6,
   "id": "e63e8f3b-4598-430f-9af8-ca124b73a353",
   "metadata": {},
   "outputs": [
    {
     "data": {
      "text/plain": [
       "3"
      ]
     },
     "execution_count": 6,
     "metadata": {},
     "output_type": "execute_result"
    }
   ],
   "source": [
    "k"
   ]
  },
  {
   "cell_type": "markdown",
   "id": "72b41a04-7df7-4a9a-97c2-61e9e821dcfa",
   "metadata": {},
   "source": [
    "# This is Markdown Heading\n",
    "\n",
    "**Bold text**\n",
    "\n",
    "- List 1\n",
    "- List 2\n",
    "- List 3\n",
    "\n",
    "![](https://cdn.myanimelist.net/s/common/uploaded_files/1444712977-9a1e5eb09fad6504e436df0445d2ae0b.png)"
   ]
  },
  {
   "cell_type": "code",
   "execution_count": null,
   "id": "bcec6298-4228-46b8-b754-58a9ad8cc6f1",
   "metadata": {},
   "outputs": [],
   "source": []
  }
 ],
 "metadata": {
  "kernelspec": {
   "display_name": "Python 3",
   "language": "python",
   "name": "python3"
  },
  "language_info": {
   "codemirror_mode": {
    "name": "ipython",
    "version": 3
   },
   "file_extension": ".py",
   "mimetype": "text/x-python",
   "name": "python",
   "nbconvert_exporter": "python",
   "pygments_lexer": "ipython3",
   "version": "3.8.8"
  }
 },
 "nbformat": 4,
 "nbformat_minor": 5
}
